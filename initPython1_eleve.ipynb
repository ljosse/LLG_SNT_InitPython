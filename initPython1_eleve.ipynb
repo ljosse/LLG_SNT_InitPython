{
 "cells": [
  {
   "cell_type": "markdown",
   "metadata": {},
   "source": [
    "<table style=\"border:1px solid black\">\n",
    "    <tbody>\n",
    "    <tr>\n",
    "    <td style=\"text-align: center; vertical-align: middle; border:1px solid black;\"><h1>TP</h1></td>\n",
    "       <td><h2>3h</h2></td>\n",
    "    <td style=\"text-align: center; vertical-align: middle; border:1px solid black;\"><h2>Notions transversales de programmation</h2></td>\n",
    "    <th rowspan=\"2\" style=\"text-align: center; vertical-align: middle; border:1px solid black; background-color:white;\"><img alt=\"logoLLG\" src=\"logoLLG.png\"></th>\n",
    "     </tr>\n",
    "     <tr>\n",
    "    <th colspan=\"2\" style=\"text-align: center; vertical-align: middle; border:1px solid black; background-color:white;\"><img alt=\"logoSNT\" src=\"logoSNT.jpg\"></th>\n",
    "    <td style=\"text-align: center; vertical-align: middle; border:1px solid black;\"><h2>Initiation à la programmation</h2></td>\n",
    "    </tr>\n",
    "    </tbody>\n",
    "</table>"
   ]
  },
  {
   "cell_type": "markdown",
   "metadata": {},
   "source": [
    "<article style=\"display : flex;justify-content : space-evenly;align-items : center;\">\n",
    "    <div>\n",
    "        La programmation séquentielle consiste à exécuter une suite d’instructions réalisant un traitement. \n",
    "        Dans ce TP, nous allons utiliser le module turtle qui permet de déplacer un point dans un espace 2D (ce point est souvent vu comme une tortue), et ainsi de réaliser des dessins.<br>\n",
    "        Le module turtle est inspiré de l'outil de dessin appelé turtle du langage Logo des années 1960, destiné à enseigner la programmation aux enfants.\n",
    "        <h1>1er partie</h1>\n",
    "    </div>\n",
    "    <img src=\"python.jpg\" alt=\"description Iris\" />\n",
    "</article>"
   ]
  },
  {
   "cell_type": "markdown",
   "metadata": {},
   "source": [
    "Exécuter le code suivant :"
   ]
  },
  {
   "cell_type": "code",
   "execution_count": null,
   "metadata": {},
   "outputs": [],
   "source": [
    "from mobilechelonian import Turtle\n",
    "t=Turtle()\n",
    "t.speed(8)\n",
    "t.circle(20)\n",
    "t.forward(50)\n",
    "t.pencolor('red')\n",
    "t.left(130)\n",
    "t.forward(50)"
   ]
  },
  {
   "cell_type": "markdown",
   "metadata": {},
   "source": [
    "Tester la fonction right(degré).\n",
    "Vous pouvez essayer de modifier les couleurs.\n",
    "\n",
    "\n",
    "<ol>\n",
    "    <li>\n",
    "        Implémenter le code traçant un triangle équilatéral bleu  et un triangle équilatéral rouge à côté et de hauteur identique. Utiliser les fonctions penup() et pendown() pour lever et baisser le crayon.\n",
    "    </li>\n",
    "</ol>"
   ]
  },
  {
   "cell_type": "code",
   "execution_count": null,
   "metadata": {},
   "outputs": [],
   "source": [
    "t=Turtle()\n",
    "t.speed(8)\n",
    "\n",
    "# A compléter\n"
   ]
  },
  {
   "cell_type": "markdown",
   "metadata": {},
   "source": [
    "<article style=\"display : flex;justify-content : space-evenly;align-items : center;\">\n",
    "<ol start=2>\n",
    "    <li>\n",
    "        Implémenter le code permettant de tracer la figure ci-contre :<br>\n",
    "        Vous pouvez utiliser les instructions supplémentaires suivantes :<br>\n",
    "        <i>backward(d)</i> -->\treculer d’une distance d<br>\n",
    "        <i>setposition(x,y)</i> --> se déplacer vers le point de coordonnées x,y (centre de la fenêtre à 200, 200).<br>\n",
    "    </li>\n",
    "</ol>\n",
    "<img src=\"ex2.jpg\" alt=\"description Iris\" />"
   ]
  },
  {
   "cell_type": "code",
   "execution_count": null,
   "metadata": {},
   "outputs": [],
   "source": [
    "t=Turtle()\n",
    "t.speed(10)\n",
    "t.pencolor('pink')\n",
    "\n",
    "# A compléter\n",
    "\n"
   ]
  },
  {
   "cell_type": "markdown",
   "metadata": {},
   "source": [
    "<article style=\"display : flex;justify-content : space-evenly;align-items : center;\">\n",
    "<ol start=3>\n",
    "    <li>\n",
    "        Réaliser le programme traçant un triangle équilatéral bleu  et un triangle rectangle rouge.<br>\n",
    "        A vos calculatrices et vos souvenirs de trigonométrie !!!\n",
    "    </li>\n",
    "</ol>\n",
    "<img src=\"ex3.jpg\" alt=\"description Iris\" />"
   ]
  },
  {
   "cell_type": "code",
   "execution_count": null,
   "metadata": {},
   "outputs": [],
   "source": [
    "t=Turtle()\n",
    "t.speed(8)\n",
    "\n",
    "# A compléter\n",
    "\n"
   ]
  },
  {
   "cell_type": "markdown",
   "metadata": {},
   "source": [
    "<h1>2ième partie</h1>\n",
    "<p>\n",
    "    Dans cette deuxième partie d’initiation à la programmation, nous allons aborder ou revoir les notions de boucle et de fonction.<br>\n",
    "Une boucle « Pour … Faire …», bien adaptée à la répétition de séquences, s’écrit de la manière suivante en python :<br>\n",
    "    for variable in plage :<br>\n",
    "        instruction1<br>\n",
    "        ...<br>\n",
    "        instructionx<br>\n",
    "    suite du programme<br><br>\n",
    "\n",
    "Tester le programme suivant :\n",
    "</p>"
   ]
  },
  {
   "cell_type": "code",
   "execution_count": null,
   "metadata": {},
   "outputs": [],
   "source": [
    "t=Turtle()\n",
    "t.speed(8)\n",
    "for i in range(12):\n",
    "    t.forward(150)\n",
    "    t.left(150)"
   ]
  },
  {
   "cell_type": "markdown",
   "metadata": {},
   "source": [
    "<article style=\"display : flex;justify-content : space-evenly;align-items : center;\">\n",
    "<ol start=4>\n",
    "    <li>\n",
    "        Réaliser le programme qui permet de dessiner 4 carrés rouges de 50x50 alignés et espacés de 15 px. Vous utiliserez une boucle for.<br>\n",
    "    </li>\n",
    "</ol>\n",
    "<img src=\"ex4.jpg\" alt=\"carrés alignés\" />"
   ]
  },
  {
   "cell_type": "code",
   "execution_count": null,
   "metadata": {},
   "outputs": [],
   "source": [
    "t=Turtle()\n",
    "t.speed(8)\n",
    "t.penup()\n",
    "t.setposition(100,200) #démarrer plus à gauche\n",
    "t.pendown()\n",
    "t.pencolor(\"red\")\n",
    "\n",
    "# A compléter\n",
    "\n"
   ]
  },
  {
   "cell_type": "markdown",
   "metadata": {},
   "source": [
    "<article style=\"display : flex;justify-content : space-evenly;align-items : center;\">\n",
    "<ol start=5>\n",
    "    <li>\n",
    "        Réaliser le programme qui permet de dessiner 4 x 3 carrés avec les caractéristiques précédentes. Vous utiliserez deux boucles for.<br>\n",
    "    </li>\n",
    "</ol>\n",
    "<img src=\"ex5.jpg\" alt=\"carrés tableau\" />"
   ]
  },
  {
   "cell_type": "code",
   "execution_count": null,
   "metadata": {},
   "outputs": [],
   "source": [
    "t=Turtle()\n",
    "t.speed(8)\n",
    "t.penup()\n",
    "t.setposition(100,200)\n",
    "t.pendown()\n",
    "t.pencolor(\"red\") \n",
    "\n",
    "# A compléter\n",
    "\n"
   ]
  },
  {
   "cell_type": "markdown",
   "metadata": {},
   "source": [
    "Une fonction est une portion de code que l'on peut appeler au besoin (c'est une sorte de sous-programme).<br>\n",
    "L'utilisation des fonctions évite des redondances dans le code : on obtient ainsi des programmes plus courts et plus lisibles.<br>\n",
    "<b>def</b> NomDeLaFonction(parametre1,parametre2,parametre3,...) :<br>\n",
    "&nbsp;&nbsp;&nbsp;&nbsp;bloc d'instructions\t# attention à l'indentation<br>\n",
    "&nbsp;&nbsp;&nbsp;&nbsp;<b>return</b> \tresultat\t# la fonction retourne le contenu de la variable resultat<br><br>\n",
    "\n",
    "La dernière ligne (return) n’est pas nécessaire si la fonction ne retourne aucun paramètre.<br><br>\n",
    "Exemple de l’addition de deux nombres : "
   ]
  },
  {
   "cell_type": "code",
   "execution_count": null,
   "metadata": {},
   "outputs": [],
   "source": [
    "def addition(a, b) :\n",
    "    c = a + b\n",
    "    return c\n",
    "\n",
    "nb1 = 3\n",
    "nb2 = 5\n",
    "print(nb1,\"+\",nb2,\":\")\n",
    "print(addition(nb1, nb2))"
   ]
  },
  {
   "cell_type": "markdown",
   "metadata": {},
   "source": [
    "<ol start=6>\n",
    "    <li>\n",
    "        Modifier vos programmes afin d’intégrer une fonction qui vous permette de dessiner des carrés de couleur et de longueur souhaitées. Vous devrez donc réaliser une fonction « affichCarre(couleur, longueur) » qui ne retourne pas de paramètre. De la même manière, vous pouvez implanter une fonction \"lignecar\" qui prend comme paramètres le nombre de lignes et de colonnes, la couleur et la longueur des carrés.\n",
    "    </li>\n",
    "</ol>"
   ]
  },
  {
   "cell_type": "code",
   "execution_count": null,
   "metadata": {},
   "outputs": [],
   "source": [
    "def affichCarre(couleur, longueur):\n",
    "    \n",
    "# A compléter\n",
    "\n",
    "t=Turtle()\n",
    "t.speed(8)\n",
    "t.penup()\n",
    "t.setposition(100,200)\n",
    "t.pendown()\n",
    "c = \"red\"\n",
    "l = 50 \n",
    "\n",
    "# A compléter\n"
   ]
  },
  {
   "cell_type": "code",
   "execution_count": null,
   "metadata": {},
   "outputs": [],
   "source": []
  }
 ],
 "metadata": {
  "kernelspec": {
   "display_name": "Python 3",
   "language": "python",
   "name": "python3"
  },
  "language_info": {
   "codemirror_mode": {
    "name": "ipython",
    "version": 3
   },
   "file_extension": ".py",
   "mimetype": "text/x-python",
   "name": "python",
   "nbconvert_exporter": "python",
   "pygments_lexer": "ipython3",
   "version": "3.7.3"
  }
 },
 "nbformat": 4,
 "nbformat_minor": 2
}
